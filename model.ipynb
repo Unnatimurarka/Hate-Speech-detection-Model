{
 "cells": [
  {
   "cell_type": "code",
   "metadata": {
    "ExecuteTime": {
     "end_time": "2025-02-19T20:19:16.197817Z",
     "start_time": "2025-02-19T20:19:16.187728Z"
    }
   },
   "source": [
    "import pandas as pd\n",
    "import re\n",
    "from sklearn.model_selection import train_test_split\n",
    "from keras.src.models import Sequential\n",
    "from keras.src.layers import Embedding, LSTM, Dense, Dropout\n",
    "from keras.src.utils import to_categorical"
   ],
   "outputs": [],
   "execution_count": 2
  },
  {
   "cell_type": "code",
   "metadata": {
    "execution": {
     "iopub.execute_input": "2023-12-14T18:48:43.681206Z",
     "iopub.status.busy": "2023-12-14T18:48:43.680905Z",
     "iopub.status.idle": "2023-12-14T18:48:43.788206Z",
     "shell.execute_reply": "2023-12-14T18:48:43.787283Z",
     "shell.execute_reply.started": "2023-12-14T18:48:43.68118Z"
    },
    "ExecuteTime": {
     "end_time": "2025-02-19T20:19:19.198149Z",
     "start_time": "2025-02-19T20:19:19.096102Z"
    }
   },
   "source": [
    "data = pd.read_csv(r\"C:\\Users\\KIIT\\PyCharmProjects\\HateSpeechDetection\\data\\train.csv\")\n",
    "\n",
    "data.head()"
   ],
   "outputs": [
    {
     "data": {
      "text/plain": [
       "   count  hate_speech_count  offensive_language_count  neither_count  class  \\\n",
       "0      3                  0                         0              3      2   \n",
       "1      3                  0                         3              0      1   \n",
       "2      3                  0                         3              0      1   \n",
       "3      3                  0                         2              1      1   \n",
       "4      6                  0                         6              0      1   \n",
       "\n",
       "                                               tweet  \n",
       "0  !!! RT @mayasolovely: As a woman you shouldn't...  \n",
       "1  !!!!! RT @mleew17: boy dats cold...tyga dwn ba...  \n",
       "2  !!!!!!! RT @UrKindOfBrand Dawg!!!! RT @80sbaby...  \n",
       "3  !!!!!!!!! RT @C_G_Anderson: @viva_based she lo...  \n",
       "4  !!!!!!!!!!!!! RT @ShenikaRoberts: The shit you...  "
      ],
      "text/html": [
       "<div>\n",
       "<style scoped>\n",
       "    .dataframe tbody tr th:only-of-type {\n",
       "        vertical-align: middle;\n",
       "    }\n",
       "\n",
       "    .dataframe tbody tr th {\n",
       "        vertical-align: top;\n",
       "    }\n",
       "\n",
       "    .dataframe thead th {\n",
       "        text-align: right;\n",
       "    }\n",
       "</style>\n",
       "<table border=\"1\" class=\"dataframe\">\n",
       "  <thead>\n",
       "    <tr style=\"text-align: right;\">\n",
       "      <th></th>\n",
       "      <th>count</th>\n",
       "      <th>hate_speech_count</th>\n",
       "      <th>offensive_language_count</th>\n",
       "      <th>neither_count</th>\n",
       "      <th>class</th>\n",
       "      <th>tweet</th>\n",
       "    </tr>\n",
       "  </thead>\n",
       "  <tbody>\n",
       "    <tr>\n",
       "      <th>0</th>\n",
       "      <td>3</td>\n",
       "      <td>0</td>\n",
       "      <td>0</td>\n",
       "      <td>3</td>\n",
       "      <td>2</td>\n",
       "      <td>!!! RT @mayasolovely: As a woman you shouldn't...</td>\n",
       "    </tr>\n",
       "    <tr>\n",
       "      <th>1</th>\n",
       "      <td>3</td>\n",
       "      <td>0</td>\n",
       "      <td>3</td>\n",
       "      <td>0</td>\n",
       "      <td>1</td>\n",
       "      <td>!!!!! RT @mleew17: boy dats cold...tyga dwn ba...</td>\n",
       "    </tr>\n",
       "    <tr>\n",
       "      <th>2</th>\n",
       "      <td>3</td>\n",
       "      <td>0</td>\n",
       "      <td>3</td>\n",
       "      <td>0</td>\n",
       "      <td>1</td>\n",
       "      <td>!!!!!!! RT @UrKindOfBrand Dawg!!!! RT @80sbaby...</td>\n",
       "    </tr>\n",
       "    <tr>\n",
       "      <th>3</th>\n",
       "      <td>3</td>\n",
       "      <td>0</td>\n",
       "      <td>2</td>\n",
       "      <td>1</td>\n",
       "      <td>1</td>\n",
       "      <td>!!!!!!!!! RT @C_G_Anderson: @viva_based she lo...</td>\n",
       "    </tr>\n",
       "    <tr>\n",
       "      <th>4</th>\n",
       "      <td>6</td>\n",
       "      <td>0</td>\n",
       "      <td>6</td>\n",
       "      <td>0</td>\n",
       "      <td>1</td>\n",
       "      <td>!!!!!!!!!!!!! RT @ShenikaRoberts: The shit you...</td>\n",
       "    </tr>\n",
       "  </tbody>\n",
       "</table>\n",
       "</div>"
      ]
     },
     "execution_count": 3,
     "metadata": {},
     "output_type": "execute_result"
    }
   ],
   "execution_count": 3
  },
  {
   "cell_type": "code",
   "metadata": {
    "execution": {
     "iopub.execute_input": "2023-12-14T18:49:16.038072Z",
     "iopub.status.busy": "2023-12-14T18:49:16.037746Z",
     "iopub.status.idle": "2023-12-14T18:49:16.051017Z",
     "shell.execute_reply": "2023-12-14T18:49:16.049959Z",
     "shell.execute_reply.started": "2023-12-14T18:49:16.038048Z"
    },
    "ExecuteTime": {
     "end_time": "2025-02-19T20:19:20.352008Z",
     "start_time": "2025-02-19T20:19:20.339133Z"
    }
   },
   "source": [
    "print(f\"num of tweets: {data.shape}\")\n",
    "tweet = list(data['tweet'])\n",
    "labels = list(data['class'])"
   ],
   "outputs": [
    {
     "name": "stdout",
     "output_type": "stream",
     "text": [
      "num of tweets: (24783, 6)\n"
     ]
    }
   ],
   "execution_count": 4
  },
  {
   "cell_type": "code",
   "metadata": {
    "execution": {
     "iopub.execute_input": "2023-12-14T18:51:42.866985Z",
     "iopub.status.busy": "2023-12-14T18:51:42.866588Z",
     "iopub.status.idle": "2023-12-14T18:51:42.883711Z",
     "shell.execute_reply": "2023-12-14T18:51:42.882729Z",
     "shell.execute_reply.started": "2023-12-14T18:51:42.866955Z"
    },
    "ExecuteTime": {
     "end_time": "2025-02-19T20:19:48.339492Z",
     "start_time": "2025-02-19T20:19:48.320912Z"
    }
   },
   "source": [
    "from nltk.corpus import stopwords\n",
    "stop_words = set(stopwords.words('english'))\n",
    "stop_words.add(\"rt\")\n",
    "\n",
    "\n",
    "def remove_entity(raw_text):\n",
    "    entity_regex = r\"&[^\\s;]+;\"\n",
    "    text = re.sub(entity_regex, \"\", raw_text)\n",
    "    return text\n",
    "\n",
    "\n",
    "def change_user(raw_text):\n",
    "    regex = r\"@([^ ]+)\"\n",
    "    text = re.sub(regex, \"user\", raw_text)\n",
    "\n",
    "    return text\n",
    "\n",
    "\n",
    "def remove_url(raw_text):\n",
    "    url_regex = r\"(?i)\\b((?:https?://|www\\d{0,3}[.]|[a-z0-9.\\-]+[.][a-z]{2,4}/)(?:[^\\s()<>]+|\\(([^\\s()<>]+|(\\([^\\s()<>]+\\)))*\\))+(?:\\(([^\\s()<>]+|(\\([^\\s()<>]+\\)))*\\)|[^\\s`!()\\[\\]{};:'\\\".,<>?«»“”‘’]))\"\n",
    "    text = re.sub(url_regex, '', raw_text)\n",
    "\n",
    "    return text\n",
    "\n",
    "\n",
    "def remove_noise_symbols(raw_text):\n",
    "    text = raw_text.replace('\"', '')\n",
    "    text = text.replace(\"'\", '')\n",
    "    text = text.replace(\"!\", '')\n",
    "    text = text.replace(\"`\", '')\n",
    "    text = text.replace(\"..\", '')\n",
    "\n",
    "    return text\n",
    "\n",
    "\n",
    "def remove_stopwords(raw_text):\n",
    "    tokenize = nltk.word_tokenize(raw_text)\n",
    "    text = [word for word in tokenize if not word.lower() in stop_words]\n",
    "    text = \" \".join(text)\n",
    "\n",
    "    return text\n",
    "\n",
    "\n",
    "def preprocess(datas):\n",
    "    clean = []\n",
    "    clean = [change_user(text) for text in datas]\n",
    "    clean = [remove_entity(text) for text in clean]\n",
    "    clean = [remove_url(text) for text in clean]\n",
    "    clean = [remove_noise_symbols(text) for text in clean]\n",
    "    clean = [remove_stopwords(text) for text in clean]\n",
    "    return clean"
   ],
   "outputs": [],
   "execution_count": 6
  },
  {
   "cell_type": "code",
   "metadata": {
    "execution": {
     "iopub.execute_input": "2023-12-14T18:52:45.15551Z",
     "iopub.status.busy": "2023-12-14T18:52:45.155133Z",
     "iopub.status.idle": "2023-12-14T18:52:50.778281Z",
     "shell.execute_reply": "2023-12-14T18:52:50.777292Z",
     "shell.execute_reply.started": "2023-12-14T18:52:45.155477Z"
    },
    "ExecuteTime": {
     "end_time": "2025-02-19T20:19:54.378558Z",
     "start_time": "2025-02-19T20:19:51.305211Z"
    }
   },
   "source": [
    "import nltk\n",
    "\n",
    "nltk.download('punkt_tab')\n",
    "clean_tweet = preprocess(tweet)"
   ],
   "outputs": [
    {
     "name": "stderr",
     "output_type": "stream",
     "text": [
      "[nltk_data] Downloading package punkt_tab to\n",
      "[nltk_data]     C:\\Users\\KIIT\\AppData\\Roaming\\nltk_data...\n",
      "[nltk_data]   Package punkt_tab is already up-to-date!\n"
     ]
    }
   ],
   "execution_count": 7
  },
  {
   "cell_type": "code",
   "metadata": {
    "execution": {
     "iopub.execute_input": "2023-12-14T18:53:29.440961Z",
     "iopub.status.busy": "2023-12-14T18:53:29.440064Z",
     "iopub.status.idle": "2023-12-14T18:53:29.461288Z",
     "shell.execute_reply": "2023-12-14T18:53:29.46036Z",
     "shell.execute_reply.started": "2023-12-14T18:53:29.440926Z"
    },
    "ExecuteTime": {
     "end_time": "2025-02-19T20:20:07.916891Z",
     "start_time": "2025-02-19T20:20:07.891394Z"
    }
   },
   "source": [
    "X_train, X_test, y_train, y_test = train_test_split(clean_tweet, labels, test_size=0.2, random_state=42)"
   ],
   "outputs": [],
   "execution_count": 8
  },
  {
   "cell_type": "code",
   "metadata": {
    "execution": {
     "iopub.execute_input": "2023-12-14T18:53:48.100859Z",
     "iopub.status.busy": "2023-12-14T18:53:48.100503Z",
     "iopub.status.idle": "2023-12-14T18:53:48.789706Z",
     "shell.execute_reply": "2023-12-14T18:53:48.788916Z",
     "shell.execute_reply.started": "2023-12-14T18:53:48.100831Z"
    },
    "ExecuteTime": {
     "end_time": "2025-02-19T20:20:25.352064Z",
     "start_time": "2025-02-19T20:20:24.435489Z"
    }
   },
   "source": [
    "from keras.src.legacy.preprocessing.text import Tokenizer\n",
    "tokenizer = Tokenizer()\n",
    "tokenizer.fit_on_texts(X_train)\n",
    "X_train = tokenizer.texts_to_sequences(X_train)\n",
    "X_test = tokenizer.texts_to_sequences(X_test)\n",
    "\n",
    "vocab_size = len(tokenizer.word_index) + 1"
   ],
   "outputs": [],
   "execution_count": 9
  },
  {
   "cell_type": "code",
   "metadata": {
    "execution": {
     "iopub.execute_input": "2023-12-14T18:53:56.638155Z",
     "iopub.status.busy": "2023-12-14T18:53:56.637798Z",
     "iopub.status.idle": "2023-12-14T18:53:56.745695Z",
     "shell.execute_reply": "2023-12-14T18:53:56.744935Z",
     "shell.execute_reply.started": "2023-12-14T18:53:56.638125Z"
    },
    "ExecuteTime": {
     "end_time": "2025-02-19T20:20:29.702564Z",
     "start_time": "2025-02-19T20:20:29.569719Z"
    }
   },
   "source": [
    "from keras.src.utils import pad_sequences\n",
    "\n",
    "max_length = max(len(seq) for seq in X_train)\n",
    "\n",
    "for x in X_test:\n",
    "    if len(x) > max_length:\n",
    "        print(f\"an outlier detected: {x}\")\n",
    "\n",
    "X_train = pad_sequences(X_train, maxlen=max_length)\n",
    "X_test = pad_sequences(X_test, maxlen=max_length)"
   ],
   "outputs": [],
   "execution_count": 10
  },
  {
   "cell_type": "code",
   "metadata": {
    "execution": {
     "iopub.execute_input": "2023-12-14T18:55:41.840133Z",
     "iopub.status.busy": "2023-12-14T18:55:41.839755Z",
     "iopub.status.idle": "2023-12-14T18:55:41.847355Z",
     "shell.execute_reply": "2023-12-14T18:55:41.846433Z",
     "shell.execute_reply.started": "2023-12-14T18:55:41.840103Z"
    },
    "ExecuteTime": {
     "end_time": "2025-02-19T20:20:38.700803Z",
     "start_time": "2025-02-19T20:20:38.695385Z"
    }
   },
   "source": [
    "y_test = to_categorical(y_test, num_classes=3)\n",
    "y_train = to_categorical(y_train, num_classes=3)"
   ],
   "outputs": [],
   "execution_count": 11
  },
  {
   "cell_type": "code",
   "metadata": {
    "execution": {
     "iopub.execute_input": "2023-12-14T18:55:50.623599Z",
     "iopub.status.busy": "2023-12-14T18:55:50.623224Z",
     "iopub.status.idle": "2023-12-14T18:55:50.628656Z",
     "shell.execute_reply": "2023-12-14T18:55:50.627736Z",
     "shell.execute_reply.started": "2023-12-14T18:55:50.62357Z"
    },
    "ExecuteTime": {
     "end_time": "2025-02-19T20:20:40.927471Z",
     "start_time": "2025-02-19T20:20:40.922088Z"
    }
   },
   "source": [
    "print(f\"num test tweet: {y_test.shape[0]}\")\n",
    "print(f\"num train tweet: {y_train.shape[0]}\")"
   ],
   "outputs": [
    {
     "name": "stdout",
     "output_type": "stream",
     "text": [
      "num test tweet: 4957\n",
      "num train tweet: 19826\n"
     ]
    }
   ],
   "execution_count": 12
  },
  {
   "cell_type": "code",
   "metadata": {
    "execution": {
     "iopub.execute_input": "2023-12-14T18:56:23.291059Z",
     "iopub.status.busy": "2023-12-14T18:56:23.290716Z",
     "iopub.status.idle": "2023-12-14T18:56:23.298561Z",
     "shell.execute_reply": "2023-12-14T18:56:23.29764Z",
     "shell.execute_reply.started": "2023-12-14T18:56:23.291032Z"
    },
    "ExecuteTime": {
     "end_time": "2025-02-19T20:20:51.628730Z",
     "start_time": "2025-02-19T20:20:51.593143Z"
    }
   },
   "source": [
    "import tensorflow.keras.backend as K\n",
    "\n",
    "def precision(y_true, y_pred):\n",
    "    true_positives = K.sum(K.round(K.clip(y_true * y_pred, 0, 1)))\n",
    "    predicted_positives = K.sum(K.round(K.clip(y_pred, 0, 1)))\n",
    "    return true_positives / (predicted_positives + K.epsilon())\n",
    "\n",
    "def recall(y_true, y_pred):\n",
    "    true_positives = K.sum(K.round(K.clip(y_true * y_pred, 0, 1)))\n",
    "    possible_positives = K.sum(K.round(K.clip(y_true, 0, 1)))\n",
    "    return true_positives / (possible_positives + K.epsilon())\n",
    "\n",
    "def f1(y_true, y_pred):\n",
    "    precisions = precision(y_true, y_pred)\n",
    "    recalls = recall(y_true, y_pred)\n",
    "    return 2 * ((precisions * recalls) / (precisions + recalls + K.epsilon()))\n"
   ],
   "outputs": [],
   "execution_count": 13
  },
  {
   "cell_type": "code",
   "metadata": {
    "execution": {
     "iopub.execute_input": "2023-12-14T18:57:02.261735Z",
     "iopub.status.busy": "2023-12-14T18:57:02.261388Z",
     "iopub.status.idle": "2023-12-14T18:57:05.350978Z",
     "shell.execute_reply": "2023-12-14T18:57:05.349999Z",
     "shell.execute_reply.started": "2023-12-14T18:57:02.261708Z"
    },
    "ExecuteTime": {
     "end_time": "2025-02-19T20:21:07.309252Z",
     "start_time": "2025-02-19T20:21:07.170571Z"
    }
   },
   "source": [
    "output_dim = 200\n",
    "\n",
    "model = Sequential([\n",
    "    Embedding(vocab_size, output_dim, input_length=max_length),\n",
    "    LSTM(64, dropout=0.3, recurrent_dropout=0.3),\n",
    "    Dropout(0.5),\n",
    "    Dense(128, activation=\"relu\"),\n",
    "    Dropout(0.5),\n",
    "    Dense(3, activation=\"softmax\"),\n",
    "])\n",
    "\n",
    "model.compile(optimizer='adam', loss='categorical_crossentropy', metrics=['accuracy', f1, precision, recall])"
   ],
   "outputs": [
    {
     "name": "stderr",
     "output_type": "stream",
     "text": [
      "C:\\Users\\KIIT\\anaconda3\\Lib\\site-packages\\keras\\src\\layers\\core\\embedding.py:90: UserWarning: Argument `input_length` is deprecated. Just remove it.\n",
      "  warnings.warn(\n"
     ]
    }
   ],
   "execution_count": 14
  },
  {
   "cell_type": "code",
   "metadata": {
    "execution": {
     "iopub.execute_input": "2023-12-14T18:57:08.027471Z",
     "iopub.status.busy": "2023-12-14T18:57:08.027106Z",
     "iopub.status.idle": "2023-12-14T18:57:08.052066Z",
     "shell.execute_reply": "2023-12-14T18:57:08.051228Z",
     "shell.execute_reply.started": "2023-12-14T18:57:08.027441Z"
    },
    "ExecuteTime": {
     "end_time": "2025-02-19T20:21:13.002668Z",
     "start_time": "2025-02-19T20:21:12.974284Z"
    }
   },
   "source": "model.summary()",
   "outputs": [
    {
     "data": {
      "text/plain": [
       "\u001B[1mModel: \"sequential\"\u001B[0m\n"
      ],
      "text/html": [
       "<pre style=\"white-space:pre;overflow-x:auto;line-height:normal;font-family:Menlo,'DejaVu Sans Mono',consolas,'Courier New',monospace\"><span style=\"font-weight: bold\">Model: \"sequential\"</span>\n",
       "</pre>\n"
      ]
     },
     "metadata": {},
     "output_type": "display_data"
    },
    {
     "data": {
      "text/plain": [
       "┏━━━━━━━━━━━━━━━━━━━━━━━━━━━━━━━━━┳━━━━━━━━━━━━━━━━━━━━━━━━┳━━━━━━━━━━━━━━━┓\n",
       "┃\u001B[1m \u001B[0m\u001B[1mLayer (type)                   \u001B[0m\u001B[1m \u001B[0m┃\u001B[1m \u001B[0m\u001B[1mOutput Shape          \u001B[0m\u001B[1m \u001B[0m┃\u001B[1m \u001B[0m\u001B[1m      Param #\u001B[0m\u001B[1m \u001B[0m┃\n",
       "┡━━━━━━━━━━━━━━━━━━━━━━━━━━━━━━━━━╇━━━━━━━━━━━━━━━━━━━━━━━━╇━━━━━━━━━━━━━━━┩\n",
       "│ embedding (\u001B[38;5;33mEmbedding\u001B[0m)           │ ?                      │   \u001B[38;5;34m0\u001B[0m (unbuilt) │\n",
       "├─────────────────────────────────┼────────────────────────┼───────────────┤\n",
       "│ lstm (\u001B[38;5;33mLSTM\u001B[0m)                     │ ?                      │   \u001B[38;5;34m0\u001B[0m (unbuilt) │\n",
       "├─────────────────────────────────┼────────────────────────┼───────────────┤\n",
       "│ dropout (\u001B[38;5;33mDropout\u001B[0m)               │ ?                      │             \u001B[38;5;34m0\u001B[0m │\n",
       "├─────────────────────────────────┼────────────────────────┼───────────────┤\n",
       "│ dense (\u001B[38;5;33mDense\u001B[0m)                   │ ?                      │   \u001B[38;5;34m0\u001B[0m (unbuilt) │\n",
       "├─────────────────────────────────┼────────────────────────┼───────────────┤\n",
       "│ dropout_1 (\u001B[38;5;33mDropout\u001B[0m)             │ ?                      │             \u001B[38;5;34m0\u001B[0m │\n",
       "├─────────────────────────────────┼────────────────────────┼───────────────┤\n",
       "│ dense_1 (\u001B[38;5;33mDense\u001B[0m)                 │ ?                      │   \u001B[38;5;34m0\u001B[0m (unbuilt) │\n",
       "└─────────────────────────────────┴────────────────────────┴───────────────┘\n"
      ],
      "text/html": [
       "<pre style=\"white-space:pre;overflow-x:auto;line-height:normal;font-family:Menlo,'DejaVu Sans Mono',consolas,'Courier New',monospace\">┏━━━━━━━━━━━━━━━━━━━━━━━━━━━━━━━━━┳━━━━━━━━━━━━━━━━━━━━━━━━┳━━━━━━━━━━━━━━━┓\n",
       "┃<span style=\"font-weight: bold\"> Layer (type)                    </span>┃<span style=\"font-weight: bold\"> Output Shape           </span>┃<span style=\"font-weight: bold\">       Param # </span>┃\n",
       "┡━━━━━━━━━━━━━━━━━━━━━━━━━━━━━━━━━╇━━━━━━━━━━━━━━━━━━━━━━━━╇━━━━━━━━━━━━━━━┩\n",
       "│ embedding (<span style=\"color: #0087ff; text-decoration-color: #0087ff\">Embedding</span>)           │ ?                      │   <span style=\"color: #00af00; text-decoration-color: #00af00\">0</span> (unbuilt) │\n",
       "├─────────────────────────────────┼────────────────────────┼───────────────┤\n",
       "│ lstm (<span style=\"color: #0087ff; text-decoration-color: #0087ff\">LSTM</span>)                     │ ?                      │   <span style=\"color: #00af00; text-decoration-color: #00af00\">0</span> (unbuilt) │\n",
       "├─────────────────────────────────┼────────────────────────┼───────────────┤\n",
       "│ dropout (<span style=\"color: #0087ff; text-decoration-color: #0087ff\">Dropout</span>)               │ ?                      │             <span style=\"color: #00af00; text-decoration-color: #00af00\">0</span> │\n",
       "├─────────────────────────────────┼────────────────────────┼───────────────┤\n",
       "│ dense (<span style=\"color: #0087ff; text-decoration-color: #0087ff\">Dense</span>)                   │ ?                      │   <span style=\"color: #00af00; text-decoration-color: #00af00\">0</span> (unbuilt) │\n",
       "├─────────────────────────────────┼────────────────────────┼───────────────┤\n",
       "│ dropout_1 (<span style=\"color: #0087ff; text-decoration-color: #0087ff\">Dropout</span>)             │ ?                      │             <span style=\"color: #00af00; text-decoration-color: #00af00\">0</span> │\n",
       "├─────────────────────────────────┼────────────────────────┼───────────────┤\n",
       "│ dense_1 (<span style=\"color: #0087ff; text-decoration-color: #0087ff\">Dense</span>)                 │ ?                      │   <span style=\"color: #00af00; text-decoration-color: #00af00\">0</span> (unbuilt) │\n",
       "└─────────────────────────────────┴────────────────────────┴───────────────┘\n",
       "</pre>\n"
      ]
     },
     "metadata": {},
     "output_type": "display_data"
    },
    {
     "data": {
      "text/plain": [
       "\u001B[1m Total params: \u001B[0m\u001B[38;5;34m0\u001B[0m (0.00 B)\n"
      ],
      "text/html": [
       "<pre style=\"white-space:pre;overflow-x:auto;line-height:normal;font-family:Menlo,'DejaVu Sans Mono',consolas,'Courier New',monospace\"><span style=\"font-weight: bold\"> Total params: </span><span style=\"color: #00af00; text-decoration-color: #00af00\">0</span> (0.00 B)\n",
       "</pre>\n"
      ]
     },
     "metadata": {},
     "output_type": "display_data"
    },
    {
     "data": {
      "text/plain": [
       "\u001B[1m Trainable params: \u001B[0m\u001B[38;5;34m0\u001B[0m (0.00 B)\n"
      ],
      "text/html": [
       "<pre style=\"white-space:pre;overflow-x:auto;line-height:normal;font-family:Menlo,'DejaVu Sans Mono',consolas,'Courier New',monospace\"><span style=\"font-weight: bold\"> Trainable params: </span><span style=\"color: #00af00; text-decoration-color: #00af00\">0</span> (0.00 B)\n",
       "</pre>\n"
      ]
     },
     "metadata": {},
     "output_type": "display_data"
    },
    {
     "data": {
      "text/plain": [
       "\u001B[1m Non-trainable params: \u001B[0m\u001B[38;5;34m0\u001B[0m (0.00 B)\n"
      ],
      "text/html": [
       "<pre style=\"white-space:pre;overflow-x:auto;line-height:normal;font-family:Menlo,'DejaVu Sans Mono',consolas,'Courier New',monospace\"><span style=\"font-weight: bold\"> Non-trainable params: </span><span style=\"color: #00af00; text-decoration-color: #00af00\">0</span> (0.00 B)\n",
       "</pre>\n"
      ]
     },
     "metadata": {},
     "output_type": "display_data"
    }
   ],
   "execution_count": 15
  },
  {
   "cell_type": "code",
   "metadata": {
    "ExecuteTime": {
     "end_time": "2025-02-19T20:21:19.389220Z",
     "start_time": "2025-02-19T20:21:19.383720Z"
    }
   },
   "source": [
    "print(f\"X_train shape: {X_train.shape}\")\n",
    "print(f\"y_train shape: {y_train.shape}\")\n",
    "print(f\"X_test shape: {X_test.shape}\")\n",
    "print(f\"y_test shape: {y_test.shape}\")"
   ],
   "outputs": [
    {
     "name": "stdout",
     "output_type": "stream",
     "text": [
      "X_train shape: (19826, 26)\n",
      "y_train shape: (19826, 3)\n",
      "X_test shape: (4957, 26)\n",
      "y_test shape: (4957, 3)\n"
     ]
    }
   ],
   "execution_count": 16
  },
  {
   "cell_type": "code",
   "metadata": {
    "ExecuteTime": {
     "end_time": "2025-02-19T20:21:21.845821Z",
     "start_time": "2025-02-19T20:21:21.841820Z"
    }
   },
   "source": [
    "if X_test is None or y_test is None:\n",
    "    raise ValueError(\"X_test or y_test is None. Check data loading.\")"
   ],
   "outputs": [],
   "execution_count": 17
  },
  {
   "cell_type": "code",
   "metadata": {
    "ExecuteTime": {
     "end_time": "2025-02-19T20:21:22.441687Z",
     "start_time": "2025-02-19T20:21:22.436681Z"
    }
   },
   "source": [
    "X_train = X_train.reshape((X_train.shape[0], -1))\n",
    "X_test = X_test.reshape((X_test.shape[0], -1))"
   ],
   "outputs": [],
   "execution_count": 18
  },
  {
   "cell_type": "code",
   "metadata": {
    "execution": {
     "iopub.execute_input": "2023-12-14T18:57:14.288477Z",
     "iopub.status.busy": "2023-12-14T18:57:14.287808Z",
     "iopub.status.idle": "2023-12-14T19:02:48.332583Z",
     "shell.execute_reply": "2023-12-14T19:02:48.331732Z",
     "shell.execute_reply.started": "2023-12-14T18:57:14.288443Z"
    },
    "ExecuteTime": {
     "end_time": "2025-02-19T20:25:37.798189Z",
     "start_time": "2025-02-19T20:21:24.816800Z"
    }
   },
   "source": [
    "model_history = model.fit(\n",
    "    X_train,\n",
    "    y_train,\n",
    "    batch_size=64,\n",
    "    epochs=10,\n",
    "    validation_data=(X_test, y_test)\n",
    ")"
   ],
   "outputs": [
    {
     "name": "stdout",
     "output_type": "stream",
     "text": [
      "Epoch 1/10\n",
      "\u001B[1m310/310\u001B[0m \u001B[32m━━━━━━━━━━━━━━━━━━━━\u001B[0m\u001B[37m\u001B[0m \u001B[1m36s\u001B[0m 95ms/step - accuracy: 0.7850 - f1: 0.7036 - loss: 0.6228 - precision: 0.7631 - recall: 0.6803 - val_accuracy: 0.8854 - val_f1: 0.8860 - val_loss: 0.3348 - val_precision: 0.9068 - val_recall: 0.8665\n",
      "Epoch 2/10\n",
      "\u001B[1m310/310\u001B[0m \u001B[32m━━━━━━━━━━━━━━━━━━━━\u001B[0m\u001B[37m\u001B[0m \u001B[1m28s\u001B[0m 90ms/step - accuracy: 0.9162 - f1: 0.9163 - loss: 0.2716 - precision: 0.9293 - recall: 0.9038 - val_accuracy: 0.8862 - val_f1: 0.8846 - val_loss: 0.3313 - val_precision: 0.8991 - val_recall: 0.8709\n",
      "Epoch 3/10\n",
      "\u001B[1m310/310\u001B[0m \u001B[32m━━━━━━━━━━━━━━━━━━━━\u001B[0m\u001B[37m\u001B[0m \u001B[1m19s\u001B[0m 61ms/step - accuracy: 0.9407 - f1: 0.9400 - loss: 0.1694 - precision: 0.9480 - recall: 0.9322 - val_accuracy: 0.8810 - val_f1: 0.8811 - val_loss: 0.3766 - val_precision: 0.8869 - val_recall: 0.8755\n",
      "Epoch 4/10\n",
      "\u001B[1m310/310\u001B[0m \u001B[32m━━━━━━━━━━━━━━━━━━━━\u001B[0m\u001B[37m\u001B[0m \u001B[1m20s\u001B[0m 64ms/step - accuracy: 0.9628 - f1: 0.9624 - loss: 0.1109 - precision: 0.9653 - recall: 0.9596 - val_accuracy: 0.8751 - val_f1: 0.8750 - val_loss: 0.4668 - val_precision: 0.8781 - val_recall: 0.8721\n",
      "Epoch 5/10\n",
      "\u001B[1m310/310\u001B[0m \u001B[32m━━━━━━━━━━━━━━━━━━━━\u001B[0m\u001B[37m\u001B[0m \u001B[1m19s\u001B[0m 61ms/step - accuracy: 0.9717 - f1: 0.9714 - loss: 0.0829 - precision: 0.9729 - recall: 0.9700 - val_accuracy: 0.8780 - val_f1: 0.8780 - val_loss: 0.5682 - val_precision: 0.8791 - val_recall: 0.8769\n",
      "Epoch 6/10\n",
      "\u001B[1m310/310\u001B[0m \u001B[32m━━━━━━━━━━━━━━━━━━━━\u001B[0m\u001B[37m\u001B[0m \u001B[1m16s\u001B[0m 52ms/step - accuracy: 0.9760 - f1: 0.9762 - loss: 0.0684 - precision: 0.9770 - recall: 0.9753 - val_accuracy: 0.8679 - val_f1: 0.8687 - val_loss: 0.6636 - val_precision: 0.8703 - val_recall: 0.8670\n",
      "Epoch 7/10\n",
      "\u001B[1m310/310\u001B[0m \u001B[32m━━━━━━━━━━━━━━━━━━━━\u001B[0m\u001B[37m\u001B[0m \u001B[1m30s\u001B[0m 96ms/step - accuracy: 0.9816 - f1: 0.9815 - loss: 0.0555 - precision: 0.9819 - recall: 0.9810 - val_accuracy: 0.8608 - val_f1: 0.8605 - val_loss: 0.6869 - val_precision: 0.8624 - val_recall: 0.8586\n",
      "Epoch 8/10\n",
      "\u001B[1m310/310\u001B[0m \u001B[32m━━━━━━━━━━━━━━━━━━━━\u001B[0m\u001B[37m\u001B[0m \u001B[1m29s\u001B[0m 94ms/step - accuracy: 0.9827 - f1: 0.9827 - loss: 0.0494 - precision: 0.9834 - recall: 0.9819 - val_accuracy: 0.8703 - val_f1: 0.8700 - val_loss: 0.6988 - val_precision: 0.8714 - val_recall: 0.8686\n",
      "Epoch 9/10\n",
      "\u001B[1m310/310\u001B[0m \u001B[32m━━━━━━━━━━━━━━━━━━━━\u001B[0m\u001B[37m\u001B[0m \u001B[1m28s\u001B[0m 89ms/step - accuracy: 0.9840 - f1: 0.9840 - loss: 0.0460 - precision: 0.9843 - recall: 0.9838 - val_accuracy: 0.8628 - val_f1: 0.8625 - val_loss: 0.8140 - val_precision: 0.8634 - val_recall: 0.8616\n",
      "Epoch 10/10\n",
      "\u001B[1m310/310\u001B[0m \u001B[32m━━━━━━━━━━━━━━━━━━━━\u001B[0m\u001B[37m\u001B[0m \u001B[1m28s\u001B[0m 90ms/step - accuracy: 0.9881 - f1: 0.9881 - loss: 0.0340 - precision: 0.9885 - recall: 0.9877 - val_accuracy: 0.8590 - val_f1: 0.8585 - val_loss: 0.9191 - val_precision: 0.8591 - val_recall: 0.8580\n"
     ]
    }
   ],
   "execution_count": 19
  },
  {
   "cell_type": "code",
   "metadata": {
    "execution": {
     "iopub.execute_input": "2023-12-14T19:08:29.888149Z",
     "iopub.status.busy": "2023-12-14T19:08:29.887163Z",
     "iopub.status.idle": "2023-12-14T19:08:30.147384Z",
     "shell.execute_reply": "2023-12-14T19:08:30.146458Z",
     "shell.execute_reply.started": "2023-12-14T19:08:29.888115Z"
    },
    "ExecuteTime": {
     "end_time": "2025-02-19T20:32:21.782385Z",
     "start_time": "2025-02-19T20:32:21.539464Z"
    }
   },
   "source": [
    "import matplotlib.pyplot as plt\n",
    "\n",
    "hist = model.history.history\n",
    "plt.plot(hist['loss'], 'r', linewidth=2, label='Training loss')\n",
    "plt.plot(hist['val_loss'], 'g', linewidth=2, label='Validation loss')\n",
    "plt.title('Hate Speech and Offensive language Model')\n",
    "plt.xlabel('Epochs numbers')\n",
    "plt.ylabel('MSE numbers')\n",
    "plt.show()"
   ],
   "outputs": [
    {
     "data": {
      "text/plain": [
       "<Figure size 640x480 with 1 Axes>"
      ],
      "image/png": "[encoded data removed]"
     },
     "metadata": {},
     "output_type": "display_data"
    }
   ],
   "execution_count": 20
  },
  {
   "cell_type": "code",
   "metadata": {
    "ExecuteTime": {
     "end_time": "2025-02-19T20:37:26.807626Z",
     "start_time": "2025-02-19T20:37:26.721727Z"
    }
   },
   "source": [
    "import numpy as np\n",
    "\n",
    "custom_sentence = [\"i love you\"]\n",
    "\n",
    "custom_sequence = tokenizer.texts_to_sequences(custom_sentence)\n",
    "custom_padded = pad_sequences(custom_sequence, maxlen=max_length)\n",
    "\n",
    "prediction = model.predict(custom_padded)\n",
    "predicted_class = np.argmax(prediction)\n",
    "confidence = prediction[0][predicted_class]\n",
    "\n",
    "print(custom_sentence)\n",
    "print(confidence)\n",
    "if prediction[0][2] < 0.9:\n",
    "    print(\"NOT Hate Speech\")\n",
    "elif prediction[0][1] > 0.99:\n",
    "    print(\"Offensive Language\")\n",
    "else:\n",
    "    print(\"Hate Speech\")\n"
   ],
   "outputs": [
    {
     "name": "stdout",
     "output_type": "stream",
     "text": [
      "\u001B[1m1/1\u001B[0m \u001B[32m━━━━━━━━━━━━━━━━━━━━\u001B[0m\u001B[37m\u001B[0m \u001B[1m0s\u001B[0m 37ms/step\n",
      "['i love you']\n",
      "0.979389\n",
      "NOT Hate Speech\n"
     ]
    }
   ],
   "execution_count": 38
  },
  {
   "cell_type": "code",
   "metadata": {
    "ExecuteTime": {
     "end_time": "2025-02-19T20:37:29.377938Z",
     "start_time": "2025-02-19T20:37:29.291151Z"
    }
   },
   "source": [
    "import numpy as np\n",
    "\n",
    "custom_sentence = [\"i hate you\"]\n",
    "\n",
    "custom_sequence = tokenizer.texts_to_sequences(custom_sentence)\n",
    "custom_padded = pad_sequences(custom_sequence, maxlen=max_length)\n",
    "\n",
    "prediction = model.predict(custom_padded)\n",
    "predicted_class = np.argmax(prediction)\n",
    "confidence = prediction[0][predicted_class]\n",
    "\n",
    "print(custom_sentence)\n",
    "print(confidence)\n",
    "if prediction[0][2] > 0.9:\n",
    "    print(\"NOT Hate Speech\")\n",
    "elif prediction[0][1] > 0.99:\n",
    "    print(\"Offensive Language\")\n",
    "else:\n",
    "    print(\"Hate Speech\")\n"
   ],
   "outputs": [
    {
     "name": "stdout",
     "output_type": "stream",
     "text": [
      "\u001B[1m1/1\u001B[0m \u001B[32m━━━━━━━━━━━━━━━━━━━━\u001B[0m\u001B[37m\u001B[0m \u001B[1m0s\u001B[0m 38ms/step\n",
      "['i hate you']\n",
      "0.51306224\n",
      "Hate Speech\n"
     ]
    }
   ],
   "execution_count": 39
  },
  {
   "metadata": {
    "ExecuteTime": {
     "end_time": "2025-02-19T20:36:54.259745Z",
     "start_time": "2025-02-19T20:36:54.256744Z"
    }
   },
   "cell_type": "code",
   "source": "",
   "outputs": [],
   "execution_count": null
  },
  {
   "metadata": {},
   "cell_type": "code",
   "outputs": [],
   "execution_count": null,
   "source": ""
  }
 ],
 "metadata": {
  "kaggle": {
   "accelerator": "gpu",
   "dataSources": [
    {
     "datasetId": 4096079,
     "sourceId": 7105074,
     "sourceType": "datasetVersion"
    }
   ],
   "dockerImageVersionId": 30626,
   "isGpuEnabled": true,
   "isInternetEnabled": false,
   "language": "python",
   "sourceType": "notebook"
  },
  "kernelspec": {
   "display_name": "Python [conda env:base] *",
   "language": "python",
   "name": "conda-base-py"
  },
  "language_info": {
   "codemirror_mode": {
    "name": "ipython",
    "version": 3
   },
   "file_extension": ".py",
   "mimetype": "text/x-python",
   "name": "python",
   "nbconvert_exporter": "python",
   "pygments_lexer": "ipython3",
   "version": "3.12.0"
  }
 },
 "nbformat": 4,
 "nbformat_minor": 4
}
